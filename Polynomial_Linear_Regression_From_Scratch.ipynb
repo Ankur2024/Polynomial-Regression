{
  "cells": [
    {
      "cell_type": "markdown",
      "metadata": {
        "id": "view-in-github",
        "colab_type": "text"
      },
      "source": [
        "<a href=\"https://colab.research.google.com/github/Ankur2024/Polynomial-Regression/blob/main/Polynomial_Linear_Regression_From_Scratch.ipynb\" target=\"_parent\"><img src=\"https://colab.research.google.com/assets/colab-badge.svg\" alt=\"Open In Colab\"/></a>"
      ]
    },
    {
      "cell_type": "markdown",
      "metadata": {
        "id": "ZjY2KtVw5sX6"
      },
      "source": [
        "# Polynomial Regression from Scratch without SKlearn"
      ]
    },
    {
      "cell_type": "code",
      "execution_count": 1,
      "metadata": {
        "id": "Ea3esGMe4lz4"
      },
      "outputs": [],
      "source": [
        "#importing the required packages\n",
        "import numpy as np\n",
        "import pandas as pd\n",
        "import matplotlib.pyplot as plt"
      ]
    },
    {
      "cell_type": "code",
      "execution_count": 2,
      "metadata": {
        "id": "i6Tts8C05xAc"
      },
      "outputs": [],
      "source": [
        "#Get the dataset\n",
        "dataset = pd.read_csv('Position_Salaries.csv')"
      ]
    },
    {
      "cell_type": "code",
      "execution_count": 3,
      "metadata": {
        "colab": {
          "base_uri": "https://localhost:8080/",
          "height": 206
        },
        "id": "6VhRUK5O6H_C",
        "outputId": "8913c916-8887-463e-b974-948c8e15e3a6"
      },
      "outputs": [
        {
          "output_type": "execute_result",
          "data": {
            "text/plain": [
              "            Position  Level  Salary\n",
              "0   Business Analyst      1   45000\n",
              "1  Junior Consultant      2   50000\n",
              "2  Senior Consultant      3   60000\n",
              "3            Manager      4   80000\n",
              "4    Country Manager      5  110000"
            ],
            "text/html": [
              "\n",
              "  <div id=\"df-b9211621-a18c-480f-82ea-33dbc675e851\" class=\"colab-df-container\">\n",
              "    <div>\n",
              "<style scoped>\n",
              "    .dataframe tbody tr th:only-of-type {\n",
              "        vertical-align: middle;\n",
              "    }\n",
              "\n",
              "    .dataframe tbody tr th {\n",
              "        vertical-align: top;\n",
              "    }\n",
              "\n",
              "    .dataframe thead th {\n",
              "        text-align: right;\n",
              "    }\n",
              "</style>\n",
              "<table border=\"1\" class=\"dataframe\">\n",
              "  <thead>\n",
              "    <tr style=\"text-align: right;\">\n",
              "      <th></th>\n",
              "      <th>Position</th>\n",
              "      <th>Level</th>\n",
              "      <th>Salary</th>\n",
              "    </tr>\n",
              "  </thead>\n",
              "  <tbody>\n",
              "    <tr>\n",
              "      <th>0</th>\n",
              "      <td>Business Analyst</td>\n",
              "      <td>1</td>\n",
              "      <td>45000</td>\n",
              "    </tr>\n",
              "    <tr>\n",
              "      <th>1</th>\n",
              "      <td>Junior Consultant</td>\n",
              "      <td>2</td>\n",
              "      <td>50000</td>\n",
              "    </tr>\n",
              "    <tr>\n",
              "      <th>2</th>\n",
              "      <td>Senior Consultant</td>\n",
              "      <td>3</td>\n",
              "      <td>60000</td>\n",
              "    </tr>\n",
              "    <tr>\n",
              "      <th>3</th>\n",
              "      <td>Manager</td>\n",
              "      <td>4</td>\n",
              "      <td>80000</td>\n",
              "    </tr>\n",
              "    <tr>\n",
              "      <th>4</th>\n",
              "      <td>Country Manager</td>\n",
              "      <td>5</td>\n",
              "      <td>110000</td>\n",
              "    </tr>\n",
              "  </tbody>\n",
              "</table>\n",
              "</div>\n",
              "    <div class=\"colab-df-buttons\">\n",
              "\n",
              "  <div class=\"colab-df-container\">\n",
              "    <button class=\"colab-df-convert\" onclick=\"convertToInteractive('df-b9211621-a18c-480f-82ea-33dbc675e851')\"\n",
              "            title=\"Convert this dataframe to an interactive table.\"\n",
              "            style=\"display:none;\">\n",
              "\n",
              "  <svg xmlns=\"http://www.w3.org/2000/svg\" height=\"24px\" viewBox=\"0 -960 960 960\">\n",
              "    <path d=\"M120-120v-720h720v720H120Zm60-500h600v-160H180v160Zm220 220h160v-160H400v160Zm0 220h160v-160H400v160ZM180-400h160v-160H180v160Zm440 0h160v-160H620v160ZM180-180h160v-160H180v160Zm440 0h160v-160H620v160Z\"/>\n",
              "  </svg>\n",
              "    </button>\n",
              "\n",
              "  <style>\n",
              "    .colab-df-container {\n",
              "      display:flex;\n",
              "      gap: 12px;\n",
              "    }\n",
              "\n",
              "    .colab-df-convert {\n",
              "      background-color: #E8F0FE;\n",
              "      border: none;\n",
              "      border-radius: 50%;\n",
              "      cursor: pointer;\n",
              "      display: none;\n",
              "      fill: #1967D2;\n",
              "      height: 32px;\n",
              "      padding: 0 0 0 0;\n",
              "      width: 32px;\n",
              "    }\n",
              "\n",
              "    .colab-df-convert:hover {\n",
              "      background-color: #E2EBFA;\n",
              "      box-shadow: 0px 1px 2px rgba(60, 64, 67, 0.3), 0px 1px 3px 1px rgba(60, 64, 67, 0.15);\n",
              "      fill: #174EA6;\n",
              "    }\n",
              "\n",
              "    .colab-df-buttons div {\n",
              "      margin-bottom: 4px;\n",
              "    }\n",
              "\n",
              "    [theme=dark] .colab-df-convert {\n",
              "      background-color: #3B4455;\n",
              "      fill: #D2E3FC;\n",
              "    }\n",
              "\n",
              "    [theme=dark] .colab-df-convert:hover {\n",
              "      background-color: #434B5C;\n",
              "      box-shadow: 0px 1px 3px 1px rgba(0, 0, 0, 0.15);\n",
              "      filter: drop-shadow(0px 1px 2px rgba(0, 0, 0, 0.3));\n",
              "      fill: #FFFFFF;\n",
              "    }\n",
              "  </style>\n",
              "\n",
              "    <script>\n",
              "      const buttonEl =\n",
              "        document.querySelector('#df-b9211621-a18c-480f-82ea-33dbc675e851 button.colab-df-convert');\n",
              "      buttonEl.style.display =\n",
              "        google.colab.kernel.accessAllowed ? 'block' : 'none';\n",
              "\n",
              "      async function convertToInteractive(key) {\n",
              "        const element = document.querySelector('#df-b9211621-a18c-480f-82ea-33dbc675e851');\n",
              "        const dataTable =\n",
              "          await google.colab.kernel.invokeFunction('convertToInteractive',\n",
              "                                                    [key], {});\n",
              "        if (!dataTable) return;\n",
              "\n",
              "        const docLinkHtml = 'Like what you see? Visit the ' +\n",
              "          '<a target=\"_blank\" href=https://colab.research.google.com/notebooks/data_table.ipynb>data table notebook</a>'\n",
              "          + ' to learn more about interactive tables.';\n",
              "        element.innerHTML = '';\n",
              "        dataTable['output_type'] = 'display_data';\n",
              "        await google.colab.output.renderOutput(dataTable, element);\n",
              "        const docLink = document.createElement('div');\n",
              "        docLink.innerHTML = docLinkHtml;\n",
              "        element.appendChild(docLink);\n",
              "      }\n",
              "    </script>\n",
              "  </div>\n",
              "\n",
              "\n",
              "<div id=\"df-d3ae0e7f-a2c7-4e12-b57e-e802e3a776a3\">\n",
              "  <button class=\"colab-df-quickchart\" onclick=\"quickchart('df-d3ae0e7f-a2c7-4e12-b57e-e802e3a776a3')\"\n",
              "            title=\"Suggest charts\"\n",
              "            style=\"display:none;\">\n",
              "\n",
              "<svg xmlns=\"http://www.w3.org/2000/svg\" height=\"24px\"viewBox=\"0 0 24 24\"\n",
              "     width=\"24px\">\n",
              "    <g>\n",
              "        <path d=\"M19 3H5c-1.1 0-2 .9-2 2v14c0 1.1.9 2 2 2h14c1.1 0 2-.9 2-2V5c0-1.1-.9-2-2-2zM9 17H7v-7h2v7zm4 0h-2V7h2v10zm4 0h-2v-4h2v4z\"/>\n",
              "    </g>\n",
              "</svg>\n",
              "  </button>\n",
              "\n",
              "<style>\n",
              "  .colab-df-quickchart {\n",
              "      --bg-color: #E8F0FE;\n",
              "      --fill-color: #1967D2;\n",
              "      --hover-bg-color: #E2EBFA;\n",
              "      --hover-fill-color: #174EA6;\n",
              "      --disabled-fill-color: #AAA;\n",
              "      --disabled-bg-color: #DDD;\n",
              "  }\n",
              "\n",
              "  [theme=dark] .colab-df-quickchart {\n",
              "      --bg-color: #3B4455;\n",
              "      --fill-color: #D2E3FC;\n",
              "      --hover-bg-color: #434B5C;\n",
              "      --hover-fill-color: #FFFFFF;\n",
              "      --disabled-bg-color: #3B4455;\n",
              "      --disabled-fill-color: #666;\n",
              "  }\n",
              "\n",
              "  .colab-df-quickchart {\n",
              "    background-color: var(--bg-color);\n",
              "    border: none;\n",
              "    border-radius: 50%;\n",
              "    cursor: pointer;\n",
              "    display: none;\n",
              "    fill: var(--fill-color);\n",
              "    height: 32px;\n",
              "    padding: 0;\n",
              "    width: 32px;\n",
              "  }\n",
              "\n",
              "  .colab-df-quickchart:hover {\n",
              "    background-color: var(--hover-bg-color);\n",
              "    box-shadow: 0 1px 2px rgba(60, 64, 67, 0.3), 0 1px 3px 1px rgba(60, 64, 67, 0.15);\n",
              "    fill: var(--button-hover-fill-color);\n",
              "  }\n",
              "\n",
              "  .colab-df-quickchart-complete:disabled,\n",
              "  .colab-df-quickchart-complete:disabled:hover {\n",
              "    background-color: var(--disabled-bg-color);\n",
              "    fill: var(--disabled-fill-color);\n",
              "    box-shadow: none;\n",
              "  }\n",
              "\n",
              "  .colab-df-spinner {\n",
              "    border: 2px solid var(--fill-color);\n",
              "    border-color: transparent;\n",
              "    border-bottom-color: var(--fill-color);\n",
              "    animation:\n",
              "      spin 1s steps(1) infinite;\n",
              "  }\n",
              "\n",
              "  @keyframes spin {\n",
              "    0% {\n",
              "      border-color: transparent;\n",
              "      border-bottom-color: var(--fill-color);\n",
              "      border-left-color: var(--fill-color);\n",
              "    }\n",
              "    20% {\n",
              "      border-color: transparent;\n",
              "      border-left-color: var(--fill-color);\n",
              "      border-top-color: var(--fill-color);\n",
              "    }\n",
              "    30% {\n",
              "      border-color: transparent;\n",
              "      border-left-color: var(--fill-color);\n",
              "      border-top-color: var(--fill-color);\n",
              "      border-right-color: var(--fill-color);\n",
              "    }\n",
              "    40% {\n",
              "      border-color: transparent;\n",
              "      border-right-color: var(--fill-color);\n",
              "      border-top-color: var(--fill-color);\n",
              "    }\n",
              "    60% {\n",
              "      border-color: transparent;\n",
              "      border-right-color: var(--fill-color);\n",
              "    }\n",
              "    80% {\n",
              "      border-color: transparent;\n",
              "      border-right-color: var(--fill-color);\n",
              "      border-bottom-color: var(--fill-color);\n",
              "    }\n",
              "    90% {\n",
              "      border-color: transparent;\n",
              "      border-bottom-color: var(--fill-color);\n",
              "    }\n",
              "  }\n",
              "</style>\n",
              "\n",
              "  <script>\n",
              "    async function quickchart(key) {\n",
              "      const quickchartButtonEl =\n",
              "        document.querySelector('#' + key + ' button');\n",
              "      quickchartButtonEl.disabled = true;  // To prevent multiple clicks.\n",
              "      quickchartButtonEl.classList.add('colab-df-spinner');\n",
              "      try {\n",
              "        const charts = await google.colab.kernel.invokeFunction(\n",
              "            'suggestCharts', [key], {});\n",
              "      } catch (error) {\n",
              "        console.error('Error during call to suggestCharts:', error);\n",
              "      }\n",
              "      quickchartButtonEl.classList.remove('colab-df-spinner');\n",
              "      quickchartButtonEl.classList.add('colab-df-quickchart-complete');\n",
              "    }\n",
              "    (() => {\n",
              "      let quickchartButtonEl =\n",
              "        document.querySelector('#df-d3ae0e7f-a2c7-4e12-b57e-e802e3a776a3 button');\n",
              "      quickchartButtonEl.style.display =\n",
              "        google.colab.kernel.accessAllowed ? 'block' : 'none';\n",
              "    })();\n",
              "  </script>\n",
              "</div>\n",
              "\n",
              "    </div>\n",
              "  </div>\n"
            ],
            "application/vnd.google.colaboratory.intrinsic+json": {
              "type": "dataframe",
              "variable_name": "dataset",
              "summary": "{\n  \"name\": \"dataset\",\n  \"rows\": 10,\n  \"fields\": [\n    {\n      \"column\": \"Position\",\n      \"properties\": {\n        \"dtype\": \"string\",\n        \"num_unique_values\": 10,\n        \"samples\": [\n          \"C-level\",\n          \"Junior Consultant\",\n          \"Region Manager\"\n        ],\n        \"semantic_type\": \"\",\n        \"description\": \"\"\n      }\n    },\n    {\n      \"column\": \"Level\",\n      \"properties\": {\n        \"dtype\": \"number\",\n        \"std\": 3,\n        \"min\": 1,\n        \"max\": 10,\n        \"num_unique_values\": 10,\n        \"samples\": [\n          9,\n          2,\n          6\n        ],\n        \"semantic_type\": \"\",\n        \"description\": \"\"\n      }\n    },\n    {\n      \"column\": \"Salary\",\n      \"properties\": {\n        \"dtype\": \"number\",\n        \"std\": 299373,\n        \"min\": 45000,\n        \"max\": 1000000,\n        \"num_unique_values\": 10,\n        \"samples\": [\n          500000,\n          50000,\n          150000\n        ],\n        \"semantic_type\": \"\",\n        \"description\": \"\"\n      }\n    }\n  ]\n}"
            }
          },
          "metadata": {},
          "execution_count": 3
        }
      ],
      "source": [
        "#Get a glimpse of the Dataset\n",
        "dataset.head()"
      ]
    },
    {
      "cell_type": "code",
      "execution_count": 4,
      "metadata": {
        "id": "c8vr2gFv6MZk"
      },
      "outputs": [],
      "source": [
        "#Separating the independent and dependent features\n",
        "#Dependent feature\n",
        "y = np.asarray(dataset['Salary'].values.tolist())\n",
        "\n",
        "# Independent Feature\n",
        "X = np.asarray(dataset['Level'].values.tolist())"
      ]
    },
    {
      "cell_type": "code",
      "execution_count": 5,
      "metadata": {
        "id": "BhrlVauL7_GT"
      },
      "outputs": [],
      "source": [
        "# Reshaping the independent feature\n",
        "X = X.reshape(-1,1)"
      ]
    },
    {
      "cell_type": "code",
      "execution_count": 6,
      "metadata": {
        "id": "H04NhgM08fN9"
      },
      "outputs": [],
      "source": [
        "#Reshaping the Dependent features\n",
        "y = y.reshape(len(y),1) # Changing the shape from (50,) to (50,1)"
      ]
    },
    {
      "cell_type": "code",
      "source": [
        "#Get the shapes of X and y\n",
        "print(\"The shape of the independent fatures are \",X.shape)\n",
        "print(\"The shape of the dependent fatures are \",y.shape)"
      ],
      "metadata": {
        "colab": {
          "base_uri": "https://localhost:8080/"
        },
        "id": "lWJi2xPOTqH5",
        "outputId": "7469bbb4-40b5-46a0-f14e-e7960c7951db"
      },
      "execution_count": 7,
      "outputs": [
        {
          "output_type": "stream",
          "name": "stdout",
          "text": [
            "The shape of the independent fatures are  (10, 1)\n",
            "The shape of the dependent fatures are  (10, 1)\n"
          ]
        }
      ]
    },
    {
      "cell_type": "markdown",
      "metadata": {
        "id": "HVjd6Flg_A5E"
      },
      "source": [
        "# Utility Method"
      ]
    },
    {
      "cell_type": "code",
      "execution_count": 8,
      "metadata": {
        "id": "noAqpVxX8nQA"
      },
      "outputs": [],
      "source": [
        "# The method \"poly_features\" concatenates polynomials of independent feature to X\n",
        "# This is similar to PolynomialFeatures class from sklearn.preprocessing\n",
        "def poly_features(features, X):\n",
        "  data = pd.DataFrame(np.zeros((X.shape[0],features)))\n",
        "  for i in range(1,features+1):\n",
        "    data.iloc[:,i-1] = (X**i).reshape(-1,1)\n",
        "  X_poly = np.array(data.values.tolist())\n",
        "  return X_poly"
      ]
    },
    {
      "cell_type": "code",
      "execution_count": 9,
      "metadata": {
        "id": "TI4EB1cGFxBS"
      },
      "outputs": [],
      "source": [
        "# The method \"split_data\" splits the given dataset into trainset and testset\n",
        "# This is similar to the method \"train_test_split\" from \"sklearn.model_selection\"\n",
        "def split_data(X,y,test_size=0.2,random_state=0):\n",
        "    np.random.seed(random_state)                  #set the seed for reproducible results\n",
        "    indices = np.random.permutation(len(X))       #shuffling the indices\n",
        "    data_test_size = int(X.shape[0] * test_size)  #Get the test size\n",
        "\n",
        "    #Separating the Independent and Dependent features into the Train and Test Set\n",
        "    train_indices = indices[data_test_size:]\n",
        "    test_indices = indices[:data_test_size]\n",
        "    X_train = X[train_indices]\n",
        "    y_train = y[train_indices]\n",
        "    X_test = X[test_indices]\n",
        "    y_test = y[test_indices]\n",
        "    return X_train, y_train, X_test, y_test"
      ]
    },
    {
      "cell_type": "code",
      "execution_count": 10,
      "metadata": {
        "id": "tCKYhQlgHwG7"
      },
      "outputs": [],
      "source": [
        "# The method pred_to_plot returns predictions on given values and helps in\n",
        "# better visualization\n",
        "def pred_to_plot(W_trained, X):\n",
        "  prediction_values = list()\n",
        "  for i in range(X.shape[0]):\n",
        "    value = regressor.predict(W_trained,X[i])\n",
        "    prediction_values.append(value)\n",
        "  return prediction_values"
      ]
    },
    {
      "cell_type": "code",
      "execution_count": 11,
      "metadata": {
        "id": "DduR5zYQO8iY"
      },
      "outputs": [],
      "source": [
        "class polynomialRegression():\n",
        "\n",
        "    def __init__(self):\n",
        "        # No instance Variables required\n",
        "        pass\n",
        "\n",
        "    def forward(self, X, y, W):\n",
        "        \"\"\"\n",
        "        Parameters:\n",
        "        X (array) : Independent Features\n",
        "        y (array) : Dependent Features/ Target Variable\n",
        "        W (array) : Weights\n",
        "\n",
        "        Returns:\n",
        "        loss (float) : Calculated Squared Error Loss for y and y_pred\n",
        "        y_pred (array) : Predicted Target Variable\n",
        "        \"\"\"\n",
        "        y_pred = sum(W * X)\n",
        "        loss = ((y_pred - y) ** 2) / 2    # Loss = Squared Error, we introduce 1/2 for ease in the calculation\n",
        "        return loss, y_pred\n",
        "\n",
        "    def updateWeights(self, X, y_pred, y_true, W, alpha, index):\n",
        "        \"\"\"\n",
        "        Parameters:\n",
        "        X (array) : Independent Features\n",
        "        y_pred (array) : Predicted Target Variable\n",
        "        y_true (array) : Dependent Features/ Target Variable\n",
        "        W (array) : Weights\n",
        "        alpha (float) : learning rate\n",
        "        index (int) : Index to fetch the corresponding values of W, X and y\n",
        "\n",
        "        Returns:\n",
        "        W (array) : Update Values of Weight\n",
        "        \"\"\"\n",
        "        for i in range(X.shape[1]):\n",
        "            # alpha = learning rate, rest of the RHS is derivative of loss function\n",
        "            W[i] -= (alpha * (y_pred - y_true[index]) * X[index][i])\n",
        "        return W\n",
        "\n",
        "    def train(self, X, y, epochs=10, alpha=0.001, random_state=0):\n",
        "        \"\"\"\n",
        "        Parameters:\n",
        "        X (array) : Independent Feature\n",
        "        y (array) : Dependent Features/ Target Variable\n",
        "        epochs (int) : Number of epochs for training, default value is 10\n",
        "        alpha (float) : learning rate, default value is 0.001\n",
        "\n",
        "        Returns:\n",
        "        y_pred (array) : Predicted Target Variable\n",
        "        loss (float) : Calculated Squared Error Loss for y and y_pred\n",
        "        \"\"\"\n",
        "\n",
        "        num_rows = X.shape[0] #Number of Rows\n",
        "        num_cols = X.shape[1] #Number of Columns\n",
        "        W = np.random.randn(1,num_cols) / np.sqrt(num_rows) #Weight Initialization\n",
        "\n",
        "        #Calculating Loss and Updating Weights\n",
        "        train_loss = []\n",
        "        num_epochs = []\n",
        "        train_indices = [i for i in range(X.shape[0])]\n",
        "        for j in range(epochs):\n",
        "            cost=0\n",
        "            np.random.seed(random_state)\n",
        "            np.random.shuffle(train_indices)\n",
        "            for i in train_indices:\n",
        "                loss, y_pred = self.forward(X[i], y[i], W[0])\n",
        "                cost += loss\n",
        "                W[0] = self.updateWeights(X, y_pred, y, W[0], alpha, i)\n",
        "            train_loss.append(cost)\n",
        "            num_epochs.append(j)\n",
        "        return W[0], train_loss, num_epochs\n",
        "\n",
        "    def test(self, X_test, y_test, W_trained):\n",
        "        \"\"\"\n",
        "        Parameters:\n",
        "        X_test (array) : Independent Features from the Test Set\n",
        "        y_test (array) : Dependent Features/ Target Variable from the Test Set\n",
        "        W_trained (array) : Trained Weights\n",
        "\n",
        "        Returns:\n",
        "        test_pred (list) : Predicted Target Variable\n",
        "        test_loss (list) : Calculated Squared Error Loss for y and y_pred\n",
        "        \"\"\"\n",
        "        test_pred = []\n",
        "        test_loss = []\n",
        "        test_indices = [i for i in range(X_test.shape[0])]\n",
        "        for i in test_indices:\n",
        "            loss, y_test_pred = self.forward(X_test[i], W_trained, y_test[i])\n",
        "            test_pred.append(y_test_pred)\n",
        "            test_loss.append(loss)\n",
        "        return test_pred, test_loss\n",
        "\n",
        "    def predict(self, W_trained, X_sample):\n",
        "        prediction = sum(W_trained * X_sample)\n",
        "        return prediction\n",
        "\n",
        "    def plotLoss(self, loss, epochs):\n",
        "        \"\"\"\n",
        "        Parameters:\n",
        "        loss (list) : Calculated Squared Error Loss for y and y_pred\n",
        "        epochs (list): Number of Epochs\n",
        "\n",
        "        Returns: None\n",
        "        Plots a graph of Loss vs Epochs\n",
        "        \"\"\"\n",
        "        plt.plot(epochs, loss)\n",
        "        plt.xlabel('Number of Epochs')\n",
        "        plt.ylabel('Loss')\n",
        "        plt.title('Plot Loss')\n",
        "        plt.show()\n"
      ]
    },
    {
      "cell_type": "code",
      "execution_count": 12,
      "metadata": {
        "id": "nRe0lBGIO9ES"
      },
      "outputs": [],
      "source": [
        "# Independent Feature\n",
        "X = np.asarray(dataset['Level'].values.tolist())"
      ]
    },
    {
      "cell_type": "code",
      "source": [
        "# Reshaping the independent feature\n",
        "X = X.reshape(-1,1)"
      ],
      "metadata": {
        "id": "tiQQAr6iT528"
      },
      "execution_count": 13,
      "outputs": []
    },
    {
      "cell_type": "code",
      "execution_count": 14,
      "metadata": {
        "colab": {
          "base_uri": "https://localhost:8080/"
        },
        "id": "whdiKUvCPPF7",
        "outputId": "2c629068-d3ab-42ad-bea8-fdcec0998c71"
      },
      "outputs": [
        {
          "output_type": "execute_result",
          "data": {
            "text/plain": [
              "array([[ 1],\n",
              "       [ 2],\n",
              "       [ 3],\n",
              "       [ 4],\n",
              "       [ 5],\n",
              "       [ 6],\n",
              "       [ 7],\n",
              "       [ 8],\n",
              "       [ 9],\n",
              "       [10]])"
            ]
          },
          "metadata": {},
          "execution_count": 14
        }
      ],
      "source": [
        "X"
      ]
    },
    {
      "cell_type": "code",
      "execution_count": 15,
      "metadata": {
        "id": "vIZu7BSbP20p"
      },
      "outputs": [],
      "source": [
        "X = poly_features(2,X)"
      ]
    },
    {
      "cell_type": "code",
      "execution_count": 16,
      "metadata": {
        "id": "1sFUDK3TP5Pt"
      },
      "outputs": [],
      "source": [
        "#Adding the feature X0 = 1, so we have the equation: y =  W0 + (W1 * X1) + (W2 * (X1**2))\n",
        "X = np.concatenate((X,np.ones((10,1))), axis = 1)"
      ]
    },
    {
      "cell_type": "code",
      "source": [
        "X"
      ],
      "metadata": {
        "colab": {
          "base_uri": "https://localhost:8080/"
        },
        "id": "A15NG4f3Ro_w",
        "outputId": "914ebd68-11da-42ec-ecb7-cb649309ad09"
      },
      "execution_count": 17,
      "outputs": [
        {
          "output_type": "execute_result",
          "data": {
            "text/plain": [
              "array([[  1.,   1.,   1.],\n",
              "       [  2.,   4.,   1.],\n",
              "       [  3.,   9.,   1.],\n",
              "       [  4.,  16.,   1.],\n",
              "       [  5.,  25.,   1.],\n",
              "       [  6.,  36.,   1.],\n",
              "       [  7.,  49.,   1.],\n",
              "       [  8.,  64.,   1.],\n",
              "       [  9.,  81.,   1.],\n",
              "       [ 10., 100.,   1.]])"
            ]
          },
          "metadata": {},
          "execution_count": 17
        }
      ]
    },
    {
      "cell_type": "code",
      "source": [
        "y"
      ],
      "metadata": {
        "colab": {
          "base_uri": "https://localhost:8080/"
        },
        "id": "9KbIz-YJUBQC",
        "outputId": "ad54b6f2-fcab-496f-fb82-07999ff85bf9"
      },
      "execution_count": 18,
      "outputs": [
        {
          "output_type": "execute_result",
          "data": {
            "text/plain": [
              "array([[  45000],\n",
              "       [  50000],\n",
              "       [  60000],\n",
              "       [  80000],\n",
              "       [ 110000],\n",
              "       [ 150000],\n",
              "       [ 200000],\n",
              "       [ 300000],\n",
              "       [ 500000],\n",
              "       [1000000]])"
            ]
          },
          "metadata": {},
          "execution_count": 18
        }
      ]
    },
    {
      "cell_type": "code",
      "source": [
        "#Splitting the dataset\n",
        "X_train, y_train, X_test, y_test = split_data(X,y)"
      ],
      "metadata": {
        "id": "I392uBqNRskI"
      },
      "execution_count": 19,
      "outputs": []
    },
    {
      "cell_type": "code",
      "source": [
        "#declaring the \"regressor\" as an object of the class polynomialRegression\n",
        "regressor = polynomialRegression()"
      ],
      "metadata": {
        "id": "q-bhz17SRxwF"
      },
      "execution_count": 20,
      "outputs": []
    },
    {
      "cell_type": "code",
      "source": [
        "#Training\n",
        "W_trained, train_loss, num_epochs = regressor.train(X_train, y_train, epochs=200, alpha=0.00001)"
      ],
      "metadata": {
        "colab": {
          "base_uri": "https://localhost:8080/"
        },
        "id": "JByGpY2CR9MM",
        "outputId": "6ade6176-24e1-4631-bf1e-403ddaaffacf"
      },
      "execution_count": 21,
      "outputs": [
        {
          "output_type": "stream",
          "name": "stderr",
          "text": [
            "<ipython-input-11-13eaf01aa9f9>:37: DeprecationWarning: Conversion of an array with ndim > 0 to a scalar is deprecated, and will error in future. Ensure you extract a single element from your array before performing this operation. (Deprecated NumPy 1.25.)\n",
            "  W[i] -= (alpha * (y_pred - y_true[index]) * X[index][i])\n"
          ]
        }
      ]
    },
    {
      "cell_type": "code",
      "source": [
        "#Testing on the Test Dataset\n",
        "test_pred, test_loss = regressor.test(X_test, y_test, W_trained)"
      ],
      "metadata": {
        "id": "GpprUgNER_EN"
      },
      "execution_count": 22,
      "outputs": []
    },
    {
      "cell_type": "code",
      "source": [
        "pred_plot = pred_to_plot(W_trained,X)"
      ],
      "metadata": {
        "id": "apToayTISFWd"
      },
      "execution_count": 23,
      "outputs": []
    },
    {
      "cell_type": "code",
      "source": [
        "plt.scatter(X[:,0], y, color = 'red')\n",
        "plt.plot(X[:,0], pred_plot, color = 'blue')\n",
        "plt.title('Naive Polynomial Regression (N = 2)')\n",
        "plt.xlabel('Position level')\n",
        "plt.ylabel('Salary')\n",
        "plt.show()"
      ],
      "metadata": {
        "colab": {
          "base_uri": "https://localhost:8080/",
          "height": 472
        },
        "id": "G44etXH8SH0H",
        "outputId": "131a88c6-bd83-4e0d-8d53-5dfff2f3877b"
      },
      "execution_count": 24,
      "outputs": [
        {
          "output_type": "display_data",
          "data": {
            "text/plain": [
              "<Figure size 640x480 with 1 Axes>"
            ],
            "image/png": "[encoded data removed]"
          },
          "metadata": {}
        }
      ]
    },
    {
      "cell_type": "code",
      "source": [
        "# Independent Feature\n",
        "X = np.asarray(dataset['Level'].values.tolist())"
      ],
      "metadata": {
        "id": "r2NEN6v4SLZj"
      },
      "execution_count": 25,
      "outputs": []
    },
    {
      "cell_type": "code",
      "source": [
        "# Reshaping the independent feature\n",
        "X = X.reshape(-1,1)"
      ],
      "metadata": {
        "id": "cgGpNql6SQO1"
      },
      "execution_count": 26,
      "outputs": []
    },
    {
      "cell_type": "code",
      "source": [
        "# Constructing the polynomials of our Independent features\n",
        "X_poly = poly_features(4,X)"
      ],
      "metadata": {
        "id": "p61fgBVhSTq-"
      },
      "execution_count": 27,
      "outputs": []
    },
    {
      "cell_type": "code",
      "source": [
        "#Adding the feature X0 = 1, so we have the equation: y =  W0 + (W1 * X1) + (W2 * (X1**2))\n",
        "X_poly = np.concatenate((X_poly,np.ones((10,1))), axis = 1)"
      ],
      "metadata": {
        "id": "mNf69y5PSWw9"
      },
      "execution_count": 28,
      "outputs": []
    },
    {
      "cell_type": "code",
      "source": [
        "X_poly"
      ],
      "metadata": {
        "colab": {
          "base_uri": "https://localhost:8080/"
        },
        "id": "guJyrgE6SaLn",
        "outputId": "3b01c48b-886f-46e8-d291-8d599df63108"
      },
      "execution_count": 29,
      "outputs": [
        {
          "output_type": "execute_result",
          "data": {
            "text/plain": [
              "array([[1.000e+00, 1.000e+00, 1.000e+00, 1.000e+00, 1.000e+00],\n",
              "       [2.000e+00, 4.000e+00, 8.000e+00, 1.600e+01, 1.000e+00],\n",
              "       [3.000e+00, 9.000e+00, 2.700e+01, 8.100e+01, 1.000e+00],\n",
              "       [4.000e+00, 1.600e+01, 6.400e+01, 2.560e+02, 1.000e+00],\n",
              "       [5.000e+00, 2.500e+01, 1.250e+02, 6.250e+02, 1.000e+00],\n",
              "       [6.000e+00, 3.600e+01, 2.160e+02, 1.296e+03, 1.000e+00],\n",
              "       [7.000e+00, 4.900e+01, 3.430e+02, 2.401e+03, 1.000e+00],\n",
              "       [8.000e+00, 6.400e+01, 5.120e+02, 4.096e+03, 1.000e+00],\n",
              "       [9.000e+00, 8.100e+01, 7.290e+02, 6.561e+03, 1.000e+00],\n",
              "       [1.000e+01, 1.000e+02, 1.000e+03, 1.000e+04, 1.000e+00]])"
            ]
          },
          "metadata": {},
          "execution_count": 29
        }
      ]
    },
    {
      "cell_type": "code",
      "source": [
        "y"
      ],
      "metadata": {
        "colab": {
          "base_uri": "https://localhost:8080/"
        },
        "id": "Dmt-4UfRSgvf",
        "outputId": "b0e4c357-89a6-476d-8583-cb2f795f6571"
      },
      "execution_count": 30,
      "outputs": [
        {
          "output_type": "execute_result",
          "data": {
            "text/plain": [
              "array([[  45000],\n",
              "       [  50000],\n",
              "       [  60000],\n",
              "       [  80000],\n",
              "       [ 110000],\n",
              "       [ 150000],\n",
              "       [ 200000],\n",
              "       [ 300000],\n",
              "       [ 500000],\n",
              "       [1000000]])"
            ]
          },
          "metadata": {},
          "execution_count": 30
        }
      ]
    },
    {
      "cell_type": "code",
      "source": [
        "#Splitting the dataset\n",
        "X_train, y_train, X_test, y_test = split_data(X_poly,y)"
      ],
      "metadata": {
        "id": "ny9HxklLSne5"
      },
      "execution_count": 31,
      "outputs": []
    },
    {
      "cell_type": "code",
      "source": [
        "#declaring the \"regressor\" as an object of the class LinearRegression\n",
        "regressor = polynomialRegression()"
      ],
      "metadata": {
        "id": "2_EAAGPDSqK4"
      },
      "execution_count": 32,
      "outputs": []
    },
    {
      "cell_type": "code",
      "source": [
        "#Training\n",
        "W_trained, train_loss, num_epochs = regressor.train(X_train, y_train, epochs=1000, alpha=1e-9)"
      ],
      "metadata": {
        "colab": {
          "base_uri": "https://localhost:8080/"
        },
        "id": "5gyDhXoYSr7N",
        "outputId": "094ad1d7-5b24-4199-c402-cc1531834ef1"
      },
      "execution_count": 33,
      "outputs": [
        {
          "output_type": "stream",
          "name": "stderr",
          "text": [
            "<ipython-input-11-13eaf01aa9f9>:37: DeprecationWarning: Conversion of an array with ndim > 0 to a scalar is deprecated, and will error in future. Ensure you extract a single element from your array before performing this operation. (Deprecated NumPy 1.25.)\n",
            "  W[i] -= (alpha * (y_pred - y_true[index]) * X[index][i])\n"
          ]
        }
      ]
    },
    {
      "cell_type": "code",
      "source": [
        "#Testing on the Test Dataset\n",
        "test_pred, test_loss = regressor.test(X_test, y_test, W_trained)"
      ],
      "metadata": {
        "id": "CmPzJ4EbSu6Z"
      },
      "execution_count": 34,
      "outputs": []
    },
    {
      "cell_type": "code",
      "source": [
        "X_poly"
      ],
      "metadata": {
        "colab": {
          "base_uri": "https://localhost:8080/"
        },
        "id": "RbyhwY5tSxXN",
        "outputId": "cd383430-65f4-4d3f-84da-548c0ab73db0"
      },
      "execution_count": 35,
      "outputs": [
        {
          "output_type": "execute_result",
          "data": {
            "text/plain": [
              "array([[1.000e+00, 1.000e+00, 1.000e+00, 1.000e+00, 1.000e+00],\n",
              "       [2.000e+00, 4.000e+00, 8.000e+00, 1.600e+01, 1.000e+00],\n",
              "       [3.000e+00, 9.000e+00, 2.700e+01, 8.100e+01, 1.000e+00],\n",
              "       [4.000e+00, 1.600e+01, 6.400e+01, 2.560e+02, 1.000e+00],\n",
              "       [5.000e+00, 2.500e+01, 1.250e+02, 6.250e+02, 1.000e+00],\n",
              "       [6.000e+00, 3.600e+01, 2.160e+02, 1.296e+03, 1.000e+00],\n",
              "       [7.000e+00, 4.900e+01, 3.430e+02, 2.401e+03, 1.000e+00],\n",
              "       [8.000e+00, 6.400e+01, 5.120e+02, 4.096e+03, 1.000e+00],\n",
              "       [9.000e+00, 8.100e+01, 7.290e+02, 6.561e+03, 1.000e+00],\n",
              "       [1.000e+01, 1.000e+02, 1.000e+03, 1.000e+04, 1.000e+00]])"
            ]
          },
          "metadata": {},
          "execution_count": 35
        }
      ]
    },
    {
      "cell_type": "code",
      "source": [
        "pred_plot = pred_to_plot(W_trained,X_poly)"
      ],
      "metadata": {
        "id": "hN4rm9w6Sz9A"
      },
      "execution_count": 36,
      "outputs": []
    },
    {
      "cell_type": "code",
      "source": [
        "pred_plot"
      ],
      "metadata": {
        "colab": {
          "base_uri": "https://localhost:8080/"
        },
        "id": "06JZQWMzS2pa",
        "outputId": "387a7ad5-58de-45bc-916c-d3b9ba012e47"
      },
      "execution_count": 37,
      "outputs": [
        {
          "output_type": "execute_result",
          "data": {
            "text/plain": [
              "[101.56686988148302,\n",
              " 1570.332736753576,\n",
              " 7876.252690310476,\n",
              " 24783.645533405484,\n",
              " 60351.39230382515,\n",
              " 124932.93627428928,\n",
              " 231176.28295245094,\n",
              " 394024.0000808964,\n",
              " 630713.2176371454,\n",
              " 960775.6278336504]"
            ]
          },
          "metadata": {},
          "execution_count": 37
        }
      ]
    },
    {
      "cell_type": "code",
      "source": [
        "plt.scatter(X_poly[:,0], y, color = 'red')\n",
        "plt.plot(X_poly[:,0], pred_plot, color = 'blue')\n",
        "plt.title('Naive Polynomial Regression (N=4)')\n",
        "plt.xlabel('Position level')\n",
        "plt.ylabel('Salary')\n",
        "plt.show()"
      ],
      "metadata": {
        "colab": {
          "base_uri": "https://localhost:8080/",
          "height": 472
        },
        "id": "4NrSddx2S4je",
        "outputId": "eeddd674-3959-45fe-d29e-f65e65d7f943"
      },
      "execution_count": 38,
      "outputs": [
        {
          "output_type": "display_data",
          "data": {
            "text/plain": [
              "<Figure size 640x480 with 1 Axes>"
            ],
            "image/png": "[encoded data removed]"
          },
          "metadata": {}
        }
      ]
    }
  ],
  "metadata": {
    "colab": {
      "provenance": [],
      "authorship_tag": "ABX9TyPbpJnGELf7AqagfOO/2feS",
      "include_colab_link": true
    },
    "kernelspec": {
      "display_name": "Python 3",
      "name": "python3"
    },
    "language_info": {
      "name": "python"
    }
  },
  "nbformat": 4,
  "nbformat_minor": 0
}